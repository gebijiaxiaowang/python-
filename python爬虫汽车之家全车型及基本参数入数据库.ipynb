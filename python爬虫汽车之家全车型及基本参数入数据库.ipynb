{
 "cells": [
  {
   "cell_type": "markdown",
   "metadata": {},
   "source": [
    "python爬虫汽车之家全车型及基本参数入数据库"
   ]
  },
  {
   "cell_type": "code",
   "execution_count": 4,
   "metadata": {},
   "outputs": [],
   "source": [
    "from selenium import webdriver\n",
    "from pandas.core.frame import DataFrame\n",
    "import json\n",
    "import random\n",
    "import pymysql\n",
    "import re, time\n",
    "import socket\n",
    "import io\n",
    "import sys\n",
    "import os\n",
    "import pandas as pd\n",
    "import requests\n",
    "from lxml import etree\n",
    "from pyquery import PyQuery as pq\n",
    "from bs4 import BeautifulSoup\n",
    "from sqlalchemy import create_engine"
   ]
  },
  {
   "cell_type": "code",
   "execution_count": 6,
   "metadata": {},
   "outputs": [],
   "source": [
    "#按F12打开开发者工具，监听一下动态页面刷到https://www.autohome.com.cn/grade/carhtml/B.html，那我们就可以联想到这些按A-Z排序遍历一下就可以把所有的品牌和对应车系ID拿下来了\n",
    "\n",
    "#分析一下需要的数据在那些标签，很整齐，建议使用BS4解析，代码如下（示例）\n",
    "\n",
    "headers = {\n",
    "    \"User-Agent\": \"Mozilla/5.0 (Windows NT 6.1; Win64; x64) AppleWebKit/537.36 (KHTML, like Gecko) Chrome/85.0.4183.83 Safari/537.36\"\n",
    "}#模拟游览器\n",
    "headers[\"X-Forwarded-For\"] = \"%s.%s.%s.%s\" % (\n",
    "        random.randrange(1, 200, 20), random.randrange(1, 200, 20), random.randrange(1, 200, 20),\n",
    "        random.randrange(1, 200, 20))#IP地址构造\n",
    "url = 'https://www.autohome.com.cn/grade/carhtml/%d.html'\n"
   ]
  },
  {
   "cell_type": "code",
   "execution_count": 7,
   "metadata": {},
   "outputs": [
    {
     "ename": "SyntaxError",
     "evalue": "unexpected EOF while parsing (<ipython-input-7-1693d311ccd6>, line 24)",
     "output_type": "error",
     "traceback": [
      "\u001b[1;36m  File \u001b[1;32m\"<ipython-input-7-1693d311ccd6>\"\u001b[1;36m, line \u001b[1;32m24\u001b[0m\n\u001b[1;33m    cxName = cx.find(\"a\").text#车型名称\u001b[0m\n\u001b[1;37m                                   ^\u001b[0m\n\u001b[1;31mSyntaxError\u001b[0m\u001b[1;31m:\u001b[0m unexpected EOF while parsing\n"
     ]
    }
   ],
   "source": [
    "for i in range(ord(\"A\"),ord(\"Z\")+1):\n",
    "    U=chr(i)\n",
    "    new_url = \"https://www.autohome.com.cn/grade/carhtml/%s.html\" %U#字符串拼接A-Z字母\n",
    "    #new_url = format(url%i)\n",
    "\n",
    "    respone = requests.get(url=new_url,headers=headers)#发送请求\n",
    "    respone.encoding = 'gbk'\n",
    "    page_text = respone.text\n",
    "    soup = BeautifulSoup(page_text, 'lxml')\n",
    "    dls = soup.findAll(\"dl\")#bs4直接定位所有的dl标签再遍历\n",
    "    for dl in dls:\n",
    "        brandId = dl.get(\"id\")#品牌ID\n",
    "        brandName = dl.find(\"dt\").text#品牌名称\n",
    "        # print(brandId,brandName)\n",
    "        logo = dl.find(\"img\")#loge\n",
    "        cxzs = dl.find_all(class_=\"rank-list-ul\")#直接定位这个车系的车系标签\n",
    "        for cxz in cxzs:\n",
    "            zm = cxz.findPrevious().text#车系名称\n",
    "\n",
    "            cxs = cxz.findAll(\"li\")\n",
    "            for cx in cxs:\n",
    "                try:\n",
    "                    cxId = cx.get(\"id\").replace(\"s\", \"\")#车型ID\n",
    "                    cxName = cx.find(\"a\").text#车型名称"
   ]
  },
  {
   "cell_type": "code",
   "execution_count": null,
   "metadata": {},
   "outputs": [],
   "source": []
  }
 ],
 "metadata": {
  "kernelspec": {
   "display_name": "Python 3",
   "language": "python",
   "name": "python3"
  },
  "language_info": {
   "codemirror_mode": {
    "name": "ipython",
    "version": 3
   },
   "file_extension": ".py",
   "mimetype": "text/x-python",
   "name": "python",
   "nbconvert_exporter": "python",
   "pygments_lexer": "ipython3",
   "version": "3.8.3"
  }
 },
 "nbformat": 4,
 "nbformat_minor": 4
}
